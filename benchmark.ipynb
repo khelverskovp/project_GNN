{
 "cells": [
  {
   "cell_type": "code",
   "execution_count": 38,
   "metadata": {},
   "outputs": [],
   "source": [
    "import torch\n",
    "from torch_geometric.datasets import TUDataset\n",
    "import networkx as nx\n",
    "\n",
    "# Step 1: Load the dataset\n",
    "dataset = TUDataset(root='.', name='MUTAG', use_node_attr=True)\n",
    "\n",
    "# Step 2: Convert to NetworkX\n",
    "def convert_to_networkx(data):\n",
    "    # Extract graph information\n",
    "    edge_index = data.edge_index\n",
    "    edge_attr = data.edge_attr\n",
    "    x = data.x\n",
    "\n",
    "    # Create a NetworkX graph\n",
    "    G = nx.Graph()\n",
    "\n",
    "    # Add nodes with attributes\n",
    "    for i in range(x.size(0)):\n",
    "        G.add_node(i, attr_dict={'feat': x[i].tolist()})\n",
    "\n",
    "    # Add edges with attributes\n",
    "    for j in range(edge_index.size(1)):\n",
    "        src, dst = edge_index[0][j].item(), edge_index[1][j].item()\n",
    "        attr = {'feat': edge_attr[j].tolist()} if edge_attr is not None else {}\n",
    "        G.add_edge(src, dst, attr_dict=attr)\n",
    "\n",
    "    return G\n",
    "\n",
    "# Step 3: Collect graphs into a list\n",
    "training_graphs = [convert_to_networkx(data) for data in dataset]\n",
    "\n",
    "# Now you have a list of NetworkX graphs stored in 'networkx_graphs'\n"
   ]
  },
  {
   "cell_type": "code",
   "execution_count": 39,
   "metadata": {},
   "outputs": [],
   "source": [
    "training_data_graph_hash = [nx.weisfeiler_lehman_graph_hash(G) for G in training_graphs]"
   ]
  },
  {
   "cell_type": "code",
   "execution_count": 37,
   "metadata": {},
   "outputs": [],
   "source": [
    "from ErdösRényi import generate_erdos_graphs\n",
    "generated_graphs = generate_erdos_graphs(1000)"
   ]
  },
  {
   "cell_type": "code",
   "execution_count": 86,
   "metadata": {},
   "outputs": [],
   "source": [
    "generated_data_graph_hash = [nx.weisfeiler_lehman_graph_hash(G) for G in generated_graphs]"
   ]
  },
  {
   "cell_type": "code",
   "execution_count": 87,
   "metadata": {},
   "outputs": [],
   "source": [
    "novel = [hash for hash in generated_data_graph_hash if not hash in training_data_graph_hash]\n",
    "precent_novel = len(novel)/len(generated_data_graph_hash)"
   ]
  },
  {
   "cell_type": "code",
   "execution_count": 78,
   "metadata": {},
   "outputs": [],
   "source": [
    "unique = list(set(generated_data_graph_hash))\n",
    "pecent_unique = len(unique)/len(generated_data_graph_hash)"
   ]
  },
  {
   "cell_type": "code",
   "execution_count": 85,
   "metadata": {},
   "outputs": [],
   "source": [
    "novel_and_unique = [hash for hash in unique if not hash in training_data_graph_hash]\n",
    "pecent_novel_and_unique = len(novel_and_unique)/len(generated_data_graph_hash)"
   ]
  }
 ],
 "metadata": {
  "kernelspec": {
   "display_name": "adlcv-ex1",
   "language": "python",
   "name": "python3"
  },
  "language_info": {
   "codemirror_mode": {
    "name": "ipython",
    "version": 3
   },
   "file_extension": ".py",
   "mimetype": "text/x-python",
   "name": "python",
   "nbconvert_exporter": "python",
   "pygments_lexer": "ipython3",
   "version": "3.8.18"
  }
 },
 "nbformat": 4,
 "nbformat_minor": 2
}
